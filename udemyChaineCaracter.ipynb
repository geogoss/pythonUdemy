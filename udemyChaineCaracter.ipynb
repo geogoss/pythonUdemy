{
 "cells": [
  {
   "cell_type": "code",
   "execution_count": 1,
   "id": "650c9dc5-d899-42f1-9996-335aa1e6f867",
   "metadata": {},
   "outputs": [],
   "source": [
    "# Changer la classe"
   ]
  },
  {
   "cell_type": "code",
   "execution_count": 2,
   "id": "0750f0b6-34e6-423c-8ae4-a8ec42c91ad4",
   "metadata": {},
   "outputs": [
    {
     "data": {
      "text/plain": [
       "'BONJOUR'"
      ]
     },
     "execution_count": 2,
     "metadata": {},
     "output_type": "execute_result"
    }
   ],
   "source": [
    "\"bonjour\".upper()"
   ]
  },
  {
   "cell_type": "code",
   "execution_count": 4,
   "id": "739fee66-7733-4bd9-a727-98858d43e551",
   "metadata": {},
   "outputs": [
    {
     "data": {
      "text/plain": [
       "'bonjour'"
      ]
     },
     "execution_count": 4,
     "metadata": {},
     "output_type": "execute_result"
    }
   ],
   "source": [
    "\"BonJOur\".lower()"
   ]
  },
  {
   "cell_type": "code",
   "execution_count": 6,
   "id": "6150bf3f-54ed-460f-9949-54ca07eff4f2",
   "metadata": {},
   "outputs": [
    {
     "data": {
      "text/plain": [
       "'Bonjour Tout Le Monde'"
      ]
     },
     "execution_count": 6,
     "metadata": {},
     "output_type": "execute_result"
    }
   ],
   "source": [
    "#capitalyse() -> fonctionne pas ???\n",
    "\"bonjour tout le monde\".title()"
   ]
  },
  {
   "cell_type": "code",
   "execution_count": 7,
   "id": "3311478d-e951-46c6-b39c-ae4ef79d6a05",
   "metadata": {},
   "outputs": [],
   "source": [
    "# Remplacer une partie d'une chaine de caractère"
   ]
  },
  {
   "cell_type": "code",
   "execution_count": 8,
   "id": "cc35c90e-7041-44c0-8a63-b9e15eba24d7",
   "metadata": {},
   "outputs": [
    {
     "data": {
      "text/plain": [
       "'Bonsoir'"
      ]
     },
     "execution_count": 8,
     "metadata": {},
     "output_type": "execute_result"
    }
   ],
   "source": [
    "#méthode replace()\n",
    "\"Bonjour\".replace(\"jour\", \"soir\")"
   ]
  },
  {
   "cell_type": "code",
   "execution_count": 9,
   "id": "94a1cfbd-a864-41e7-89eb-c6e150b0a626",
   "metadata": {},
   "outputs": [
    {
     "data": {
      "text/plain": [
       "'Bonsoir bonsoir'"
      ]
     },
     "execution_count": 9,
     "metadata": {},
     "output_type": "execute_result"
    }
   ],
   "source": [
    "\"Bonjour bonjour\".replace(\"jour\", \"soir\")"
   ]
  },
  {
   "cell_type": "code",
   "execution_count": 10,
   "id": "6e66ce36-a45c-4579-9425-e2e8d07f0a56",
   "metadata": {},
   "outputs": [
    {
     "data": {
      "text/plain": [
       "'Bonjourbonjour'"
      ]
     },
     "execution_count": 10,
     "metadata": {},
     "output_type": "execute_result"
    }
   ],
   "source": [
    "\"Bonjour bonjour\".replace(\" \", \"\")"
   ]
  },
  {
   "cell_type": "code",
   "execution_count": 12,
   "id": "e7da5a6f-632b-4329-8a70-37114c528b0b",
   "metadata": {},
   "outputs": [
    {
     "data": {
      "text/plain": [
       "'Bonsoirbonsoir'"
      ]
     },
     "execution_count": 12,
     "metadata": {},
     "output_type": "execute_result"
    }
   ],
   "source": [
    "\"Bonjour bonjour\".replace(\"jour\", \"soir\").replace(\" \", \"\")"
   ]
  },
  {
   "cell_type": "code",
   "execution_count": 13,
   "id": "8af05682-9118-443d-bdcd-403685dd40ac",
   "metadata": {},
   "outputs": [
    {
     "data": {
      "text/plain": [
       "'bonjour'"
      ]
     },
     "execution_count": 13,
     "metadata": {},
     "output_type": "execute_result"
    }
   ],
   "source": [
    "#méthode strip() -> enlève les espaces au début et à la fin\n",
    "\"  bonjour   \".strip()"
   ]
  },
  {
   "cell_type": "code",
   "execution_count": 14,
   "id": "e73bcf8d-1fc4-47a1-b753-e95ab0d948bf",
   "metadata": {},
   "outputs": [
    {
     "data": {
      "text/plain": [
       "'bon     jour'"
      ]
     },
     "execution_count": 14,
     "metadata": {},
     "output_type": "execute_result"
    }
   ],
   "source": [
    "\"  bon     jour   \".strip()"
   ]
  },
  {
   "cell_type": "code",
   "execution_count": 16,
   "id": "480dab95-f3ba-49fc-94d2-1eaf9c681a71",
   "metadata": {},
   "outputs": [
    {
     "data": {
      "text/plain": [
       "'bon'"
      ]
     },
     "execution_count": 16,
     "metadata": {},
     "output_type": "execute_result"
    }
   ],
   "source": [
    "\"  bonjour   \".strip(\" ujor\")"
   ]
  },
  {
   "cell_type": "code",
   "execution_count": 17,
   "id": "9284ac8a-cdc1-4653-b44e-34660de4c305",
   "metadata": {},
   "outputs": [
    {
     "data": {
      "text/plain": [
       "'  bon'"
      ]
     },
     "execution_count": 17,
     "metadata": {},
     "output_type": "execute_result"
    }
   ],
   "source": [
    "#rstrip et lstrip\n",
    "\"  bonjour   \".rstrip(\" ujor\")"
   ]
  },
  {
   "cell_type": "code",
   "execution_count": 18,
   "id": "05e2defb-ea8b-4ef5-8b79-07e3170c5855",
   "metadata": {},
   "outputs": [
    {
     "data": {
      "text/plain": [
       "'bonjour   '"
      ]
     },
     "execution_count": 18,
     "metadata": {},
     "output_type": "execute_result"
    }
   ],
   "source": [
    "\"  bonjour   \".lstrip(\" ujor\")"
   ]
  },
  {
   "cell_type": "code",
   "execution_count": 19,
   "id": "14a2d583-e8e8-4eb2-bb83-33da7f2c0ef7",
   "metadata": {},
   "outputs": [],
   "source": [
    "# Séparer et joindre -> modifier en passant d'un type à un autre\n",
    "# split() et join()"
   ]
  },
  {
   "cell_type": "code",
   "execution_count": 20,
   "id": "777aab66-fce5-4e5b-925f-9350c464f43a",
   "metadata": {},
   "outputs": [
    {
     "data": {
      "text/plain": [
       "['1', '2', '3', '4', '5']"
      ]
     },
     "execution_count": 20,
     "metadata": {},
     "output_type": "execute_result"
    }
   ],
   "source": [
    "\"1, 2, 3, 4, 5\".split(\", \")"
   ]
  },
  {
   "cell_type": "code",
   "execution_count": 21,
   "id": "3c616d4b-bb14-47d3-bdf4-cd12bf09ae76",
   "metadata": {},
   "outputs": [
    {
     "data": {
      "text/plain": [
       "'1 ,2 ,3 ,4 ,5'"
      ]
     },
     "execution_count": 21,
     "metadata": {},
     "output_type": "execute_result"
    }
   ],
   "source": [
    "\" ,\".join(\"1, 2, 3, 4, 5\".split(\", \"))"
   ]
  },
  {
   "cell_type": "code",
   "execution_count": 23,
   "id": "586990da-cd0f-4c5f-bdf3-4c4d811fe262",
   "metadata": {},
   "outputs": [
    {
     "data": {
      "text/plain": [
       "'1.2.3.4.5'"
      ]
     },
     "execution_count": 23,
     "metadata": {},
     "output_type": "execute_result"
    }
   ],
   "source": [
    "# autre façon que replace\n",
    "\".\".join(\"1, 2, 3, 4, 5\".split(\", \"))"
   ]
  },
  {
   "cell_type": "code",
   "execution_count": 24,
   "id": "3ef56194-8826-4b90-adca-74309dedd3ad",
   "metadata": {},
   "outputs": [
    {
     "ename": "TypeError",
     "evalue": "sequence item 0: expected str instance, int found",
     "output_type": "error",
     "traceback": [
      "\u001b[1;31m---------------------------------------------------------------------------\u001b[0m",
      "\u001b[1;31mTypeError\u001b[0m                                 Traceback (most recent call last)",
      "\u001b[1;32m~\\AppData\\Local\\Temp/ipykernel_26228/2825225322.py\u001b[0m in \u001b[0;36m<module>\u001b[1;34m\u001b[0m\n\u001b[1;32m----> 1\u001b[1;33m \u001b[1;34m\"-\"\u001b[0m\u001b[1;33m.\u001b[0m\u001b[0mjoin\u001b[0m\u001b[1;33m(\u001b[0m\u001b[1;33m[\u001b[0m\u001b[1;36m1\u001b[0m\u001b[1;33m,\u001b[0m \u001b[1;36m2\u001b[0m\u001b[1;33m,\u001b[0m \u001b[1;36m3\u001b[0m\u001b[1;33m]\u001b[0m\u001b[1;33m)\u001b[0m\u001b[1;33m\u001b[0m\u001b[1;33m\u001b[0m\u001b[0m\n\u001b[0m",
      "\u001b[1;31mTypeError\u001b[0m: sequence item 0: expected str instance, int found"
     ]
    }
   ],
   "source": [
    "\"-\".join([1, 2, 3])"
   ]
  },
  {
   "cell_type": "code",
   "execution_count": 25,
   "id": "45d9d380-d111-46d0-af6d-223624fd752c",
   "metadata": {},
   "outputs": [
    {
     "data": {
      "text/plain": [
       "'1-2-3'"
      ]
     },
     "execution_count": 25,
     "metadata": {},
     "output_type": "execute_result"
    }
   ],
   "source": [
    "\"-\".join([\"1\", \"2\", \"3\"])"
   ]
  },
  {
   "cell_type": "code",
   "execution_count": 26,
   "id": "9f997841-514a-478b-b9e8-cc7f3a8e83fb",
   "metadata": {},
   "outputs": [],
   "source": [
    "# Remplir de zero -> méthode zfill() -> ne marche que sur les chaines de caractère"
   ]
  },
  {
   "cell_type": "code",
   "execution_count": 27,
   "id": "006e3dff-0aff-461f-aef1-9f53534151aa",
   "metadata": {},
   "outputs": [
    {
     "data": {
      "text/plain": [
       "'009'"
      ]
     },
     "execution_count": 27,
     "metadata": {},
     "output_type": "execute_result"
    }
   ],
   "source": [
    "\"9\".zfill(3)"
   ]
  },
  {
   "cell_type": "code",
   "execution_count": 29,
   "id": "b1dd1a5b-baa5-4147-9bbd-09a88c4a8a0b",
   "metadata": {},
   "outputs": [
    {
     "name": "stdout",
     "output_type": "stream",
     "text": [
      "0\n",
      "1\n",
      "2\n",
      "3\n",
      "4\n",
      "5\n",
      "6\n",
      "7\n",
      "8\n",
      "9\n",
      "10\n",
      "11\n",
      "12\n",
      "13\n",
      "14\n",
      "15\n",
      "16\n",
      "17\n",
      "18\n",
      "19\n"
     ]
    }
   ],
   "source": [
    "for i in range(20):\n",
    "    print (i)"
   ]
  },
  {
   "cell_type": "code",
   "execution_count": 31,
   "id": "aca1d3af-de34-4743-963a-07e8e91075e9",
   "metadata": {},
   "outputs": [
    {
     "name": "stdout",
     "output_type": "stream",
     "text": [
      "000\n",
      "001\n",
      "002\n",
      "003\n",
      "004\n",
      "005\n",
      "006\n",
      "007\n",
      "008\n",
      "009\n",
      "010\n",
      "011\n",
      "012\n",
      "013\n",
      "014\n",
      "015\n",
      "016\n",
      "017\n",
      "018\n",
      "019\n"
     ]
    }
   ],
   "source": [
    "for i in range(20):\n",
    "    print(str(i).zfill(3))"
   ]
  },
  {
   "cell_type": "code",
   "execution_count": 32,
   "id": "226ec037-0cf0-4b52-974a-90b8a6053b18",
   "metadata": {},
   "outputs": [],
   "source": [
    "# la méthode is()"
   ]
  },
  {
   "cell_type": "code",
   "execution_count": 33,
   "id": "33b99050-af46-4c13-84ff-173fdeef3c10",
   "metadata": {},
   "outputs": [
    {
     "data": {
      "text/plain": [
       "True"
      ]
     },
     "execution_count": 33,
     "metadata": {},
     "output_type": "execute_result"
    }
   ],
   "source": [
    "\"bonjour\".islower()"
   ]
  },
  {
   "cell_type": "code",
   "execution_count": 34,
   "id": "4ea2e89d-17d4-400d-8b55-1517d78a7512",
   "metadata": {},
   "outputs": [
    {
     "data": {
      "text/plain": [
       "False"
      ]
     },
     "execution_count": 34,
     "metadata": {},
     "output_type": "execute_result"
    }
   ],
   "source": [
    "\"Bonjour\".islower()"
   ]
  },
  {
   "cell_type": "code",
   "execution_count": 35,
   "id": "7ac1fb24-c436-4613-9278-e615df9e7aa0",
   "metadata": {},
   "outputs": [
    {
     "data": {
      "text/plain": [
       "False"
      ]
     },
     "execution_count": 35,
     "metadata": {},
     "output_type": "execute_result"
    }
   ],
   "source": [
    "\"Bonjour\".isupper()"
   ]
  },
  {
   "cell_type": "code",
   "execution_count": 36,
   "id": "e6107fa5-0cac-433a-a491-90055960aae6",
   "metadata": {},
   "outputs": [
    {
     "data": {
      "text/plain": [
       "True"
      ]
     },
     "execution_count": 36,
     "metadata": {},
     "output_type": "execute_result"
    }
   ],
   "source": [
    "\"50\".isdigit()"
   ]
  },
  {
   "cell_type": "code",
   "execution_count": 37,
   "id": "877759df-8166-4306-803d-333459a43cf5",
   "metadata": {},
   "outputs": [
    {
     "data": {
      "text/plain": [
       "False"
      ]
     },
     "execution_count": 37,
     "metadata": {},
     "output_type": "execute_result"
    }
   ],
   "source": [
    "\"509468151g\".isdigit()"
   ]
  },
  {
   "cell_type": "code",
   "execution_count": 38,
   "id": "0f8843e7-3367-447e-b5c1-17b1288f4edc",
   "metadata": {},
   "outputs": [],
   "source": [
    "# python étant très typé on ne peut pas additionner 50 + \"50\"\n",
    "# donc intéressant de vérifier si c'est bien que des nombres"
   ]
  },
  {
   "cell_type": "code",
   "execution_count": 39,
   "id": "90b1cd3c-6706-4180-83a1-4efd283fd56d",
   "metadata": {},
   "outputs": [],
   "source": [
    "# attention le input() renvoie une chaine de caractere à convertir avec int si on veut des nombres entiers"
   ]
  },
  {
   "cell_type": "code",
   "execution_count": 40,
   "id": "903fd392-c192-4380-a895-89d9931a4dae",
   "metadata": {},
   "outputs": [],
   "source": [
    "# Compter les occurences"
   ]
  },
  {
   "cell_type": "code",
   "execution_count": 41,
   "id": "24ac6982-5aad-42fe-84f4-fd401d96579e",
   "metadata": {},
   "outputs": [
    {
     "data": {
      "text/plain": [
       "2"
      ]
     },
     "execution_count": 41,
     "metadata": {},
     "output_type": "execute_result"
    }
   ],
   "source": [
    "\"Bonjour le jour\".count(\"jour\")"
   ]
  },
  {
   "cell_type": "code",
   "execution_count": 42,
   "id": "dda16480-823d-4bb0-ba07-e76c8ceffd1c",
   "metadata": {},
   "outputs": [
    {
     "data": {
      "text/plain": [
       "1"
      ]
     },
     "execution_count": 42,
     "metadata": {},
     "output_type": "execute_result"
    }
   ],
   "source": [
    "\"Bonjour le jour\".count(\" jour\")"
   ]
  },
  {
   "cell_type": "code",
   "execution_count": 43,
   "id": "27647a75-e63a-4c98-a772-217447e36f72",
   "metadata": {},
   "outputs": [],
   "source": [
    "# Trouver une chaîne \n",
    "# méthode find() et index()"
   ]
  },
  {
   "cell_type": "code",
   "execution_count": 44,
   "id": "2e59e274-6da8-4df9-80ee-afa6daa4f6cf",
   "metadata": {},
   "outputs": [
    {
     "data": {
      "text/plain": [
       "3"
      ]
     },
     "execution_count": 44,
     "metadata": {},
     "output_type": "execute_result"
    }
   ],
   "source": [
    "\"Bonjour le jour\".find(\"jour\")"
   ]
  },
  {
   "cell_type": "code",
   "execution_count": 45,
   "id": "a5823737-d840-48ef-8b0d-f19e697fff45",
   "metadata": {},
   "outputs": [
    {
     "data": {
      "text/plain": [
       "3"
      ]
     },
     "execution_count": 45,
     "metadata": {},
     "output_type": "execute_result"
    }
   ],
   "source": [
    "\"Bonjour le jour\".index(\"jour\")"
   ]
  },
  {
   "cell_type": "code",
   "execution_count": 46,
   "id": "063fd40e-717b-43a0-b41c-6e8caefb9b4f",
   "metadata": {},
   "outputs": [
    {
     "data": {
      "text/plain": [
       "-1"
      ]
     },
     "execution_count": 46,
     "metadata": {},
     "output_type": "execute_result"
    }
   ],
   "source": [
    "\"Bonjour le jour\".find(\"soir\")"
   ]
  },
  {
   "cell_type": "code",
   "execution_count": 47,
   "id": "282a8342-344d-4e1c-913a-7971c609c39c",
   "metadata": {},
   "outputs": [
    {
     "ename": "ValueError",
     "evalue": "substring not found",
     "output_type": "error",
     "traceback": [
      "\u001b[1;31m---------------------------------------------------------------------------\u001b[0m",
      "\u001b[1;31mValueError\u001b[0m                                Traceback (most recent call last)",
      "\u001b[1;32m~\\AppData\\Local\\Temp/ipykernel_26228/84486051.py\u001b[0m in \u001b[0;36m<module>\u001b[1;34m\u001b[0m\n\u001b[1;32m----> 1\u001b[1;33m \u001b[1;34m\"Bonjour le jour\"\u001b[0m\u001b[1;33m.\u001b[0m\u001b[0mindex\u001b[0m\u001b[1;33m(\u001b[0m\u001b[1;34m\"soir\"\u001b[0m\u001b[1;33m)\u001b[0m\u001b[1;33m\u001b[0m\u001b[1;33m\u001b[0m\u001b[0m\n\u001b[0m",
      "\u001b[1;31mValueError\u001b[0m: substring not found"
     ]
    }
   ],
   "source": [
    "\"Bonjour le jour\".index(\"soir\")"
   ]
  },
  {
   "cell_type": "code",
   "execution_count": 48,
   "id": "a4fbf075-254a-4c60-accd-9acb551adfc4",
   "metadata": {},
   "outputs": [
    {
     "data": {
      "text/plain": [
       "11"
      ]
     },
     "execution_count": 48,
     "metadata": {},
     "output_type": "execute_result"
    }
   ],
   "source": [
    "# cherche en partant de la fin (droite)\n",
    "\"Bonjour le jour\".rfind(\"jour\")"
   ]
  },
  {
   "cell_type": "code",
   "execution_count": 49,
   "id": "1515289b-d77a-443d-90cc-0d4fc06703b2",
   "metadata": {},
   "outputs": [],
   "source": [
    "#existe pas de lfind() !!! puisque lfind() n'est rien d'autre que find()"
   ]
  },
  {
   "cell_type": "code",
   "execution_count": 50,
   "id": "e35de0ee-6f4b-4973-a799-d14706d564df",
   "metadata": {},
   "outputs": [],
   "source": [
    "# Chercher au début et à la fin"
   ]
  },
  {
   "cell_type": "code",
   "execution_count": 51,
   "id": "9512ed4d-1914-4c7a-b9bd-d5bd4b8615c8",
   "metadata": {},
   "outputs": [
    {
     "data": {
      "text/plain": [
       "True"
      ]
     },
     "execution_count": 51,
     "metadata": {},
     "output_type": "execute_result"
    }
   ],
   "source": [
    "\"image.png\".endswith(\"png\")"
   ]
  },
  {
   "cell_type": "code",
   "execution_count": 52,
   "id": "d4f4c12e-a109-49ff-bf95-702979d1a855",
   "metadata": {},
   "outputs": [
    {
     "data": {
      "text/plain": [
       "False"
      ]
     },
     "execution_count": 52,
     "metadata": {},
     "output_type": "execute_result"
    }
   ],
   "source": [
    "\"image.png\".endswith(\"jpg\")"
   ]
  },
  {
   "cell_type": "code",
   "execution_count": 53,
   "id": "e4142dfe-4ad3-4c8a-9439-dc6c74938358",
   "metadata": {},
   "outputs": [
    {
     "data": {
      "text/plain": [
       "True"
      ]
     },
     "execution_count": 53,
     "metadata": {},
     "output_type": "execute_result"
    }
   ],
   "source": [
    "\"image.png\".startswith(\"image\")"
   ]
  },
  {
   "cell_type": "code",
   "execution_count": 54,
   "id": "ea43779b-cfc6-400e-ad78-c0a8120a5f4b",
   "metadata": {},
   "outputs": [
    {
     "data": {
      "text/plain": [
       "False"
      ]
     },
     "execution_count": 54,
     "metadata": {},
     "output_type": "execute_result"
    }
   ],
   "source": [
    "\"image.png\".startswith(\"video\")"
   ]
  },
  {
   "cell_type": "code",
   "execution_count": null,
   "id": "423907c5-9a67-4bb3-8abe-aadb178e7bdd",
   "metadata": {},
   "outputs": [],
   "source": [
    "# "
   ]
  }
 ],
 "metadata": {
  "kernelspec": {
   "display_name": "Python 3 (ipykernel)",
   "language": "python",
   "name": "python3"
  },
  "language_info": {
   "codemirror_mode": {
    "name": "ipython",
    "version": 3
   },
   "file_extension": ".py",
   "mimetype": "text/x-python",
   "name": "python",
   "nbconvert_exporter": "python",
   "pygments_lexer": "ipython3",
   "version": "3.9.7"
  },
  "toc-autonumbering": true,
  "toc-showcode": false,
  "toc-showmarkdowntxt": true
 },
 "nbformat": 4,
 "nbformat_minor": 5
}
