{
 "cells": [
  {
   "cell_type": "code",
   "execution_count": 1,
   "id": "bce7ade2-b7dd-44ef-847f-b26593f1c2f4",
   "metadata": {},
   "outputs": [
    {
     "data": {
      "text/plain": [
       "'Boonjourtoutlemonde'"
      ]
     },
     "execution_count": 1,
     "metadata": {},
     "output_type": "execute_result"
    }
   ],
   "source": [
    "\"Boonjour\" + \"tout\" + \"le\" + \"monde\""
   ]
  },
  {
   "cell_type": "code",
   "execution_count": 3,
   "id": "01a35961-c5ef-4d31-a1f5-3255985e2b8d",
   "metadata": {},
   "outputs": [
    {
     "ename": "TypeError",
     "evalue": "can only concatenate str (not \"int\") to str",
     "output_type": "error",
     "traceback": [
      "\u001b[1;31m---------------------------------------------------------------------------\u001b[0m",
      "\u001b[1;31mTypeError\u001b[0m                                 Traceback (most recent call last)",
      "\u001b[1;32m~\\AppData\\Local\\Temp/ipykernel_31624/3912532661.py\u001b[0m in \u001b[0;36m<module>\u001b[1;34m\u001b[0m\n\u001b[1;32m----> 1\u001b[1;33m \u001b[1;34m\"Vous avez le nombre \"\u001b[0m \u001b[1;33m+\u001b[0m \u001b[1;36m5\u001b[0m\u001b[1;33m\u001b[0m\u001b[1;33m\u001b[0m\u001b[0m\n\u001b[0m",
      "\u001b[1;31mTypeError\u001b[0m: can only concatenate str (not \"int\") to str"
     ]
    }
   ],
   "source": [
    "\"Vous avez le nombre \" + 5"
   ]
  },
  {
   "cell_type": "code",
   "execution_count": 4,
   "id": "c1da604c-2d8d-4011-83a7-04d98704de45",
   "metadata": {},
   "outputs": [
    {
     "data": {
      "text/plain": [
       "'Vous avez le nombre 5'"
      ]
     },
     "execution_count": 4,
     "metadata": {},
     "output_type": "execute_result"
    }
   ],
   "source": [
    "\"Vous avez le nombre \" + str(5)"
   ]
  },
  {
   "cell_type": "code",
   "execution_count": 5,
   "id": "019f69ce-81ce-40fd-9543-102004f20729",
   "metadata": {},
   "outputs": [],
   "source": [
    "# ou"
   ]
  },
  {
   "cell_type": "code",
   "execution_count": 6,
   "id": "a02329cf-85ac-4206-ae80-5da97663735c",
   "metadata": {},
   "outputs": [
    {
     "data": {
      "text/plain": [
       "'Vous avez le nombre 5'"
      ]
     },
     "execution_count": 6,
     "metadata": {},
     "output_type": "execute_result"
    }
   ],
   "source": [
    "\"Vous avez le nombre \" + \"5\""
   ]
  },
  {
   "cell_type": "code",
   "execution_count": 7,
   "id": "5205ebc3-6039-4496-a8b8-b1f10df7e9fd",
   "metadata": {},
   "outputs": [],
   "source": [
    "# fstring"
   ]
  },
  {
   "cell_type": "code",
   "execution_count": 8,
   "id": "372726c3-7ce2-4309-bd1b-7d39d031acd1",
   "metadata": {},
   "outputs": [
    {
     "data": {
      "text/plain": [
       "'Bonjour Paul !'"
      ]
     },
     "execution_count": 8,
     "metadata": {},
     "output_type": "execute_result"
    }
   ],
   "source": [
    "prenom = \"Paul\"\n",
    "f\"Bonjour {prenom} !\""
   ]
  },
  {
   "cell_type": "code",
   "execution_count": 9,
   "id": "420ac866-9e07-4fe4-8902-5dca7abca776",
   "metadata": {},
   "outputs": [
    {
     "data": {
      "text/plain": [
       "' La multiplication de 10 par 5 est égale à 50 :-)'"
      ]
     },
     "execution_count": 9,
     "metadata": {},
     "output_type": "execute_result"
    }
   ],
   "source": [
    "a =10\n",
    "b = 5\n",
    "f\" La multiplication de {a} par {b} est égale à {a*b} :-)\""
   ]
  },
  {
   "cell_type": "code",
   "execution_count": 10,
   "id": "ee67fc1a-8335-4562-89b5-ab5041a4e502",
   "metadata": {},
   "outputs": [],
   "source": [
    "# La méthode format"
   ]
  },
  {
   "cell_type": "code",
   "execution_count": 11,
   "id": "d0ff3dc4-247c-4b04-9188-cf8a255a3105",
   "metadata": {},
   "outputs": [
    {
     "data": {
      "text/plain": [
       "\"J'ai 26 ans !\""
      ]
     },
     "execution_count": 11,
     "metadata": {},
     "output_type": "execute_result"
    }
   ],
   "source": [
    "age = 26 \n",
    "\"J'ai {} ans !\".format(age)"
   ]
  },
  {
   "cell_type": "code",
   "execution_count": 12,
   "id": "a2f59110-2cb0-44a5-a723-71b2af9e30a5",
   "metadata": {},
   "outputs": [
    {
     "data": {
      "text/plain": [
       "\"J'ai 50 ans !\""
      ]
     },
     "execution_count": 12,
     "metadata": {},
     "output_type": "execute_result"
    }
   ],
   "source": [
    "\"J'ai {toto} ans !\".format(toto= 50)"
   ]
  },
  {
   "cell_type": "code",
   "execution_count": 13,
   "id": "b9c51a95-89bc-49cc-83f6-c127abdd6601",
   "metadata": {},
   "outputs": [
    {
     "data": {
      "text/plain": [
       "\"J'ai 25 ans, 50 !\""
      ]
     },
     "execution_count": 13,
     "metadata": {},
     "output_type": "execute_result"
    }
   ],
   "source": [
    "\"J'ai {} ans, {} !\".format(25, 50)"
   ]
  },
  {
   "cell_type": "code",
   "execution_count": 18,
   "id": "a927e111-97d5-4cfa-9257-828fa593047e",
   "metadata": {},
   "outputs": [
    {
     "data": {
      "text/plain": [
       "\"Je m'appelle Pierre et j'ai 26 ans\""
      ]
     },
     "execution_count": 18,
     "metadata": {},
     "output_type": "execute_result"
    }
   ],
   "source": [
    "prenom = \"Pierre\"\n",
    "age = 26\n",
    "\"Je m'appelle {0} et j'ai {1} ans\".format(prenom, age)"
   ]
  },
  {
   "cell_type": "code",
   "execution_count": 19,
   "id": "c6ac82a8-e862-4b86-ae7f-b3cc5dec8173",
   "metadata": {},
   "outputs": [
    {
     "data": {
      "text/plain": [
       "\"Je m'appelle 26 et j'ai Pierre ans\""
      ]
     },
     "execution_count": 19,
     "metadata": {},
     "output_type": "execute_result"
    }
   ],
   "source": [
    "prenom = \"Pierre\"\n",
    "age = 26\n",
    "\"Je m'appelle {1} et j'ai {0} ans\".format(prenom, age)"
   ]
  },
  {
   "cell_type": "code",
   "execution_count": 20,
   "id": "92df2d89-e201-46f3-95c1-6c8512bfe5cc",
   "metadata": {},
   "outputs": [],
   "source": [
    "protocol = \"https://\"\n",
    "nomDuSite = \"Docstring\"\n",
    "extension = \"fr\""
   ]
  },
  {
   "cell_type": "code",
   "execution_count": 23,
   "id": "9fd12246-138f-48df-a8f6-8db08d232007",
   "metadata": {},
   "outputs": [
    {
     "data": {
      "text/plain": [
       "'https://www.Docstring.fr'"
      ]
     },
     "execution_count": 23,
     "metadata": {},
     "output_type": "execute_result"
    }
   ],
   "source": [
    "# Avec l'opérateur\n",
    "protocol + \"www\" + \".\" + nomDuSite + \".\" + extension"
   ]
  },
  {
   "cell_type": "code",
   "execution_count": 25,
   "id": "189eeb29-75d4-49c0-a253-f34a82019308",
   "metadata": {},
   "outputs": [
    {
     "data": {
      "text/plain": [
       "'https://www.Docstring.fr'"
      ]
     },
     "execution_count": 25,
     "metadata": {},
     "output_type": "execute_result"
    }
   ],
   "source": [
    "# Avec la méthode format\n",
    "\"{}www.{}.{}\".format(protocol, nomDuSite, extension)"
   ]
  },
  {
   "cell_type": "code",
   "execution_count": 26,
   "id": "f1cbc37c-7850-491d-896c-2230c551cfd2",
   "metadata": {},
   "outputs": [
    {
     "data": {
      "text/plain": [
       "'https://www.Docstring.fr'"
      ]
     },
     "execution_count": 26,
     "metadata": {},
     "output_type": "execute_result"
    }
   ],
   "source": [
    "\"{protocol}www.{nomDuSite}.{extension}\".format(protocol= \"https://\", nomDuSite = \"Docstring\", extension = \"fr\")"
   ]
  },
  {
   "cell_type": "code",
   "execution_count": 27,
   "id": "1999d314-a862-400f-b78e-29522118afee",
   "metadata": {},
   "outputs": [
    {
     "data": {
      "text/plain": [
       "'https://www.Docstring.fr'"
      ]
     },
     "execution_count": 27,
     "metadata": {},
     "output_type": "execute_result"
    }
   ],
   "source": [
    "# Avec les f-string\n",
    "f\"{protocol}www.{nomDuSite}.{extension}\""
   ]
  },
  {
   "cell_type": "code",
   "execution_count": null,
   "id": "5655acbe-8071-4e8d-8cff-90d2d4c00e18",
   "metadata": {},
   "outputs": [],
   "source": []
  }
 ],
 "metadata": {
  "kernelspec": {
   "display_name": "Python 3 (ipykernel)",
   "language": "python",
   "name": "python3"
  },
  "language_info": {
   "codemirror_mode": {
    "name": "ipython",
    "version": 3
   },
   "file_extension": ".py",
   "mimetype": "text/x-python",
   "name": "python",
   "nbconvert_exporter": "python",
   "pygments_lexer": "ipython3",
   "version": "3.9.7"
  }
 },
 "nbformat": 4,
 "nbformat_minor": 5
}
